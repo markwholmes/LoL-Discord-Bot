{
 "cells": [
  {
   "cell_type": "markdown",
   "metadata": {},
   "source": [
    "Experimenting and defining functions to cleanly call APIs. A lot of the information that I want needs either a summoner ID or an account ID, not the summoner name. Functions will take a summoner name, another argument or two, and return the requested information. \n",
    "\n",
    "The notebook will be for testing out functions. Once functions are written and I am happy with the results, they will be moved to a normal .py script in order to be imported in other scripts. \n",
    "\n",
    "For quick reference and access:\n",
    "\n",
    "[Link to Riot Developer home page](https://developer.riotgames.com/)\n",
    "\n",
    "[Link to list of Riot APIs](https://developer.riotgames.com/apis)\n"
   ]
  },
  {
   "cell_type": "markdown",
   "metadata": {},
   "source": [
    "### Defining the environment"
   ]
  },
  {
   "cell_type": "code",
   "execution_count": 1,
   "metadata": {},
   "outputs": [],
   "source": [
    "import requests\n",
    "import config\n",
    "from QueueDecode import queue_decoder"
   ]
  },
  {
   "cell_type": "code",
   "execution_count": 2,
   "metadata": {},
   "outputs": [],
   "source": [
    "api_key = config.api_key"
   ]
  },
  {
   "cell_type": "markdown",
   "metadata": {},
   "source": [
    "# Get Account ID"
   ]
  },
  {
   "cell_type": "code",
   "execution_count": 4,
   "metadata": {},
   "outputs": [],
   "source": [
    "def get_accountID(SummonerName):\n",
    "    URL = \"https://na1.api.riotgames.com/lol/summoner/v4/summoners/by-name/\" + SummonerName + \"?api_key=\" + api_key\n",
    "    response=requests.get(URL)\n",
    "    id_dict = response.json()\n",
    "    accountId = id_dict['accountId']\n",
    "    return accountId"
   ]
  },
  {
   "cell_type": "code",
   "execution_count": 5,
   "metadata": {},
   "outputs": [
    {
     "data": {
      "text/plain": [
       "'K16hWqf1z5vYoUXMfMKuiBdFdkeExF0n9YU_fhKGIV50Ew'"
      ]
     },
     "execution_count": 5,
     "metadata": {},
     "output_type": "execute_result"
    }
   ],
   "source": [
    "get_accountID('Shlotchky')"
   ]
  },
  {
   "cell_type": "markdown",
   "metadata": {},
   "source": [
    "# Get Summoner ID"
   ]
  },
  {
   "cell_type": "code",
   "execution_count": 6,
   "metadata": {},
   "outputs": [],
   "source": [
    "def get_summonerID(SummonerName):\n",
    "    URL = \"https://na1.api.riotgames.com/lol/summoner/v4/summoners/by-name/\" + SummonerName + \"?api_key=\" + api_key\n",
    "    response=requests.get(URL)\n",
    "    id_dict = response.json()\n",
    "    summonerId = id_dict['id']\n",
    "    return summonerId"
   ]
  },
  {
   "cell_type": "code",
   "execution_count": 7,
   "metadata": {},
   "outputs": [
    {
     "data": {
      "text/plain": [
       "'aDnwOfutlUn09NeG5VlshUJHWE3GVt0Iwhqpe8YqngVJLf0'"
      ]
     },
     "execution_count": 7,
     "metadata": {},
     "output_type": "execute_result"
    }
   ],
   "source": [
    "get_summonerID('Shlotchky')"
   ]
  },
  {
   "cell_type": "markdown",
   "metadata": {},
   "source": [
    "# Get Last Match ID"
   ]
  },
  {
   "cell_type": "code",
   "execution_count": 8,
   "metadata": {},
   "outputs": [],
   "source": [
    "def get_last_matchID(SummonerName):\n",
    "    accountId = str(get_accountID(SummonerName))\n",
    "    URL = \"https://na1.api.riotgames.com/lol/match/v4/matchlists/by-account/\" + accountId + \"?api_key=\" + api_key\n",
    "    response=requests.get(URL)\n",
    "    match_dict = response.json()\n",
    "    # note that gameId == matchId for other Riot API calls\n",
    "    gameId = match_dict['matches'][1]['gameId']\n",
    "    return gameId"
   ]
  },
  {
   "cell_type": "code",
   "execution_count": 9,
   "metadata": {},
   "outputs": [
    {
     "data": {
      "text/plain": [
       "3198606149"
      ]
     },
     "execution_count": 9,
     "metadata": {},
     "output_type": "execute_result"
    }
   ],
   "source": [
    "get_last_matchID('Shlotchky')"
   ]
  },
  {
   "cell_type": "markdown",
   "metadata": {},
   "source": [
    "# Get Last Match Info"
   ]
  },
  {
   "cell_type": "code",
   "execution_count": 10,
   "metadata": {},
   "outputs": [],
   "source": [
    "def get_last_match_info(SummonerName):\n",
    "    matchID = str(get_last_matchID(SummonerName))\n",
    "    \n",
    "    URL = \"https://na1.api.riotgames.com/lol/match/v4/matches/\" + matchID + \"?api_key=\" + api_key\n",
    "    response = requests.get(URL)\n",
    "    match_info_dict = response.json()\n",
    "    \n",
    "    # Getting player number for the input SummonerName\n",
    "    player_number_list = list(range(0,10))\n",
    "    for x in player_number_list:\n",
    "        summonerID = match_info_dict['participantIdentities'][x]['player']['summonerName']\n",
    "        if summonerID == SummonerName:\n",
    "            participantId = match_info_dict['participantIdentities'][x]['participantId']\n",
    "            participant_index_num = x\n",
    "            \n",
    "            #returning if last game was win or loss\n",
    "            if match_info_dict['participants'][x]['stats']['win'] == True:\n",
    "                win = 'Win'\n",
    "            elif match_info_dict['participants'][x]['stats']['win'] == False:\n",
    "                win = 'Loss'\n",
    "                \n",
    "            kda = [match_info_dict['participants'][x]['stats']['kills'],\n",
    "                   match_info_dict['participants'][x]['stats']['deaths'],\n",
    "                   match_info_dict['participants'][x]['stats']['assists']] \n",
    "            \n",
    "            totalDamageDealt = match_info_dict['participants'][x]['stats']['totalDamageDealt']\n",
    "            \n",
    "            game_mode = match_info_dict['gameMode']\n",
    "            \n",
    "            # getting game type with an external queueID reference json file\n",
    "            queueID = match_info_dict['queueId']\n",
    "            for x in queue_decoder:\n",
    "                for key,value in x.items():\n",
    "                    if value == queueID:\n",
    "                        game_description = x['description']\n",
    "                        \n",
    "        else:\n",
    "            pass\n",
    "    \n",
    "    print((f'{win}\\n') + \n",
    "          (f'k/d/a = {kda[0]}/{kda[1]}/{kda[2]}\\n') + \n",
    "          (f'Total Damage Dealt = {totalDamageDealt}\\n') +\n",
    "          (f'{game_description}'))\n"
   ]
  },
  {
   "cell_type": "code",
   "execution_count": 11,
   "metadata": {},
   "outputs": [
    {
     "name": "stdout",
     "output_type": "stream",
     "text": [
      "Win\n",
      "k/d/a = 2/6/9\n",
      "Total Damage Dealt = 28359\n",
      "5v5 Draft Pick games\n"
     ]
    }
   ],
   "source": [
    "get_last_match_info('Shlotchky')"
   ]
  },
  {
   "cell_type": "markdown",
   "metadata": {},
   "source": [
    "# Get Rank and LP\n",
    "\n",
    "Return the current rank, LP, and a recent 5 game history. This will allow us to watch how everybody's LP is tracking. "
   ]
  },
  {
   "cell_type": "code",
   "execution_count": 12,
   "metadata": {},
   "outputs": [],
   "source": [
    "def get_rank_history(SummonerName):\n",
    "    summonerID = get_summonerID(SummonerName)\n",
    "    \n",
    "    URL = \"https://na1.api.riotgames.com/lol/league/v4/entries/by-summoner/\" + summonerID + \"?api_key=\" + api_key\n",
    "    response = requests.get(URL)\n",
    "    summoner_profile_dict = response.json()\n",
    "    \n",
    "    tier   = summoner_profile_dict[0]['tier']\n",
    "    rank   = summoner_profile_dict[0]['rank']\n",
    "    LP     = summoner_profile_dict[0]['leaguePoints']\n",
    "    wins   = summoner_profile_dict[0]['wins']\n",
    "    losses = summoner_profile_dict[0]['losses']\n",
    "    \n",
    "    print((f'{SummonerName}\\n') +\n",
    "          (f'{tier} {rank}\\n') +\n",
    "          (f'{LP} LP\\n') +\n",
    "          (f'{wins}/{losses}'))"
   ]
  },
  {
   "cell_type": "code",
   "execution_count": 13,
   "metadata": {},
   "outputs": [
    {
     "name": "stdout",
     "output_type": "stream",
     "text": [
      "Shlotchky\n",
      "BRONZE I\n",
      "29 LP\n",
      "5/17\n"
     ]
    }
   ],
   "source": [
    "get_rank_history('Shlotchky')"
   ]
  },
  {
   "cell_type": "code",
   "execution_count": null,
   "metadata": {},
   "outputs": [],
   "source": []
  },
  {
   "cell_type": "code",
   "execution_count": null,
   "metadata": {},
   "outputs": [],
   "source": []
  },
  {
   "cell_type": "code",
   "execution_count": null,
   "metadata": {},
   "outputs": [],
   "source": []
  }
 ],
 "metadata": {
  "kernelspec": {
   "display_name": "Python 3",
   "language": "python",
   "name": "python3"
  },
  "language_info": {
   "codemirror_mode": {
    "name": "ipython",
    "version": 3
   },
   "file_extension": ".py",
   "mimetype": "text/x-python",
   "name": "python",
   "nbconvert_exporter": "python",
   "pygments_lexer": "ipython3",
   "version": "3.7.3"
  }
 },
 "nbformat": 4,
 "nbformat_minor": 2
}
