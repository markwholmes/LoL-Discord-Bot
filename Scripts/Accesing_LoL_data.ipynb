{
 "cells": [
  {
   "cell_type": "markdown",
   "metadata": {},
   "source": [
    "Purpose of this script is to learn how to interact with the Riot API to pull game data from LoL. \n",
    "\n",
    "[link to Riot Developer home page](https://developer.riotgames.com/)\n",
    "\n",
    "[Link to list of Riot APIs](https://developer.riotgames.com/apis)\n",
    "\n"
   ]
  },
  {
   "cell_type": "code",
   "execution_count": 1,
   "metadata": {},
   "outputs": [],
   "source": [
    "import requests\n",
    "import config"
   ]
  },
  {
   "cell_type": "markdown",
   "metadata": {},
   "source": [
    "Accessing the api key from a hidden config file in the repo"
   ]
  },
  {
   "cell_type": "code",
   "execution_count": 2,
   "metadata": {},
   "outputs": [],
   "source": [
    "api_key = config.api_key"
   ]
  },
  {
   "cell_type": "markdown",
   "metadata": {},
   "source": [
    "For testing purposes, I will be using my own summoner name. From my summoner name, I can access my summonerID, and then further account details like games, match history, rank, etc"
   ]
  },
  {
   "cell_type": "code",
   "execution_count": 3,
   "metadata": {},
   "outputs": [],
   "source": [
    "summonerName = \"Shlotchky\""
   ]
  },
  {
   "cell_type": "code",
   "execution_count": 4,
   "metadata": {},
   "outputs": [
    {
     "data": {
      "text/plain": [
       "{'id': 'aDnwOfutlUn09NeG5VlshUJHWE3GVt0Iwhqpe8YqngVJLf0',\n",
       " 'accountId': 'K16hWqf1z5vYoUXMfMKuiBdFdkeExF0n9YU_fhKGIV50Ew',\n",
       " 'puuid': '2o-FlTW3jmZ719dZ1pJd8sTIzeY6S8HGPEDEJStOW1p5wKW5KYR_uA5UO7Xv1_13D4vSmJg47LaVkQ',\n",
       " 'name': 'Shlotchky',\n",
       " 'profileIconId': 23,\n",
       " 'revisionDate': 1573103562000,\n",
       " 'summonerLevel': 37}"
      ]
     },
     "execution_count": 4,
     "metadata": {},
     "output_type": "execute_result"
    }
   ],
   "source": [
    "URL = \"https://na1.api.riotgames.com/lol/summoner/v4/summoners/by-name/\" + summonerName + \"?api_key=\" + api_key\n",
    "response=requests.get(URL)\n",
    "id_dict = response.json()\n",
    "id_dict"
   ]
  },
  {
   "cell_type": "code",
   "execution_count": 5,
   "metadata": {},
   "outputs": [],
   "source": [
    "match_URL = \"https://na1.api.riotgames.com/lol/match/v4/matchlists/by-account/\" + id_dict['accountId'] + \"?api_key=\" + api_key"
   ]
  },
  {
   "cell_type": "code",
   "execution_count": 6,
   "metadata": {},
   "outputs": [],
   "source": [
    "match_response = requests.get(match_URL)\n",
    "match_dict = match_response.json()\n",
    "#match_dict"
   ]
  },
  {
   "cell_type": "code",
   "execution_count": 7,
   "metadata": {},
   "outputs": [
    {
     "data": {
      "text/plain": [
       "3067773589"
      ]
     },
     "execution_count": 7,
     "metadata": {},
     "output_type": "execute_result"
    }
   ],
   "source": [
    "match_dict['matches'][99]['gameId']"
   ]
  },
  {
   "cell_type": "code",
   "execution_count": 8,
   "metadata": {},
   "outputs": [],
   "source": [
    "game_url = \"https://na1.api.riotgames.com/lol/match/v4/matches/\" + str(match_dict['matches'][99]['gameId']) + \"?api_key=\" + api_key\n",
    "game_response = requests.get(game_url)\n",
    "game_dict = game_response.json()\n",
    "#game_dict"
   ]
  },
  {
   "cell_type": "code",
   "execution_count": null,
   "metadata": {},
   "outputs": [],
   "source": []
  },
  {
   "cell_type": "code",
   "execution_count": null,
   "metadata": {},
   "outputs": [],
   "source": []
  }
 ],
 "metadata": {
  "kernelspec": {
   "display_name": "Python 3",
   "language": "python",
   "name": "python3"
  },
  "language_info": {
   "codemirror_mode": {
    "name": "ipython",
    "version": 3
   },
   "file_extension": ".py",
   "mimetype": "text/x-python",
   "name": "python",
   "nbconvert_exporter": "python",
   "pygments_lexer": "ipython3",
   "version": "3.7.3"
  }
 },
 "nbformat": 4,
 "nbformat_minor": 2
}
